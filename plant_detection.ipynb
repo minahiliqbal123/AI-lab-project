{
 "cells": [
  {
   "cell_type": "markdown",
   "metadata": {},
   "source": [
    "# <p><center style=\"font-family:newtimeroman;font-size:180%;\"> Plant Village Disease Classification </center></p>\n",
    "### Table of contents:\n",
    "\n",
    "* [Import Libraries](#1)\n",
    "* [Read Data](#2)\n",
    "* [Visualization Of Dataset](#3)\n",
    "* [Data Augmentation](#4)\n",
    "* [Train CNN Model](#5)\n",
    "* [Evaluate The Model](#6)"
   ]
  },
  {
   "cell_type": "code",
   "execution_count": null,
   "metadata": {},
   "outputs": [],
   "source": [
    "import os\n",
    "import cv2\n",
    "import pandas as pd\n",
    "import numpy as np\n",
    "import matplotlib.pyplot as plt\n",
    "import seaborn as sns\n",
    "from sklearn.model_selection import train_test_split\n",
    "from sklearn.preprocessing import LabelEncoder\n",
    "from tensorflow.keras.preprocessing.image import ImageDataGenerator\n",
    "import keras\n",
    "from keras.callbacks import EarlyStopping,ModelCheckpoint\n",
    "import tensorflow as tf\n",
    "from sklearn.metrics import confusion_matrix\n",
    "from sklearn.metrics import classification_report\n",
    "from tqdm import tqdm"
   ]
  },
  {
   "cell_type": "markdown",
   "metadata": {},
   "source": [
    "**<a id=\"2\"></a>\n",
    "# <p style=\"background-image: url(https://i.postimg.cc/K87ByXmr/stage5.jpg);font-family:camtasia;font-size:120%;color:white;text-align:center;border-radius:15px 50px; padding:7px\">Read Data </p>\n",
    "<a class=\"btn\" href=\"#home\">Tabel of Contents</a>"
   ]
  },
  {
   "cell_type": "code",
   "execution_count": null,
   "metadata": {},
   "outputs": [],
   "source": [
    "def data(dataset_path):\n",
    "    images = []\n",
    "    labels = []\n",
    "    for subfolder in tqdm(os.listdir(dataset_path)):\n",
    "        subfolder_path = os.path.join(dataset_path, subfolder)\n",
    "        for image_filename in os.listdir(subfolder_path):\n",
    "            image_path = os.path.join(subfolder_path, image_filename)\n",
    "            images.append(image_path)\n",
    "            labels.append(subfolder)\n",
    "    df = pd.DataFrame({'image': images, 'label': labels})\n",
    "    return df"
   ]
  },
  {
   "cell_type": "code",
   "execution_count": null,
   "metadata": {},
   "outputs": [],
   "source": [
    "#train\n",
    "train = data(r'C:/Users/MY PC/Downloads/plantvillage dataset/color')\n",
    "train.head()"
   ]
  },
  {
   "cell_type": "code",
   "execution_count": null,
   "metadata": {},
   "outputs": [],
   "source": [
    "train.shape"
   ]
  },
  {
   "cell_type": "markdown",
   "metadata": {},
   "source": [
    "**<a id=\"3\"></a>\n",
    "# <p style=\"background-image: url(https://i.postimg.cc/K87ByXmr/stage5.jpg);font-family:camtasia;font-size:120%;color:white;text-align:center;border-radius:15px 50px; padding:7px\">Visualization of Dataset </p>\n",
    "<a class=\"btn\" href=\"#home\">Tabel of Contents</a>"
   ]
  },
  {
   "cell_type": "code",
   "execution_count": null,
   "metadata": {},
   "outputs": [],
   "source": [
    "train.label.value_counts().to_frame()"
   ]
  },
  {
   "cell_type": "code",
   "execution_count": null,
   "metadata": {},
   "outputs": [],
   "source": [
    "plt.style.use('dark_background')\n",
    "plt.figure(figsize=(30,50))\n",
    "for n,i in enumerate(np.random.randint(0,len(train),30)):\n",
    "    plt.subplot(10,5,n+1)\n",
    "    img = cv2.imread(train.image[i])\n",
    "    img = cv2.cvtColor(img,cv2.COLOR_BGR2RGB)\n",
    "    plt.imshow(img)\n",
    "    plt.axis('off')\n",
    "    text = f'{train.label[i]}\\n'\n",
    "    plt.title(text,fontsize=20)"
   ]
  },
  {
   "cell_type": "markdown",
   "metadata": {},
   "source": [
    "<a id=\"4\"></a>\n",
    "# <p style=\"background-image: url(https://i.postimg.cc/K87ByXmr/stage5.jpg);font-family:camtasia;font-size:120%;color:white;text-align:center;border-radius:15px 50px; padding:7px\"> Data Augmentation </p>\n",
    "<a class=\"btn\" href=\"#home\">Tabel of Contents</a>"
   ]
  },
  {
   "cell_type": "code",
   "execution_count": null,
   "metadata": {},
   "outputs": [],
   "source": [
    "x_train, x_test1, y_train, y_test1 = train_test_split(train['image'], train['label'], test_size=0.2, random_state=42, shuffle=True,stratify=train['label'])\n",
    "x_val, x_test, y_val, y_test = train_test_split(x_test1,y_test1, test_size=0.5, random_state=42,shuffle=True,stratify=y_test1)\n",
    "df_train = pd.DataFrame({'image': x_train, 'label': y_train})\n",
    "df_test = pd.DataFrame({'image': x_test, 'label': y_test})\n",
    "df_val = pd.DataFrame({'image': x_val, 'label': y_val})"
   ]
  },
  {
   "cell_type": "code",
   "execution_count": null,
   "metadata": {},
   "outputs": [],
   "source": [
    "image_size =  (224, 224)\n",
    "batch_size = 32\n",
    "datagen = ImageDataGenerator(\n",
    "    rescale=1./255\n",
    ")\n",
    "train_datagen = ImageDataGenerator(\n",
    "    rescale=1./255,\n",
    "    #rotation_range=20,\n",
    "    #width_shift_range=0.2,\n",
    "    #height_shift_range=0.2,\n",
    "    #shear_range=0.2,\n",
    "    #zoom_range=0.2,\n",
    "    horizontal_flip=True,\n",
    "    #fill_mode='nearest'\n",
    ")\n",
    "train_generator = train_datagen.flow_from_dataframe(\n",
    "    df_train,\n",
    "    x_col='image',\n",
    "    y_col='label',\n",
    "    target_size=image_size,\n",
    "    batch_size=batch_size,\n",
    "    shuffle=True\n",
    ")\n",
    "test_generator = datagen.flow_from_dataframe(\n",
    "    df_test,\n",
    "    x_col='image',\n",
    "    y_col='label',\n",
    "    target_size=image_size,\n",
    "    batch_size=batch_size,\n",
    "    shuffle=False\n",
    ")\n",
    "val_generator = datagen.flow_from_dataframe(\n",
    "    df_val,\n",
    "    x_col='image',\n",
    "    y_col='label',\n",
    "    target_size=image_size,\n",
    "    batch_size=batch_size,\n",
    "    shuffle=False\n",
    ")"
   ]
  },
  {
   "cell_type": "code",
   "execution_count": null,
   "metadata": {},
   "outputs": [],
   "source": [
    "class_ = test_generator.class_indices.keys()\n",
    "class_ = list(class_)"
   ]
  },
  {
   "cell_type": "markdown",
   "metadata": {},
   "source": [
    "<a id=\"5\"></a>\n",
    "# <p style=\"background-image: url(https://i.postimg.cc/K87ByXmr/stage5.jpg);font-family:camtasia;font-size:120%;color:white;text-align:center;border-radius:15px 50px; padding:7px\"> Modeling </p>\n",
    "<a class=\"btn\" href=\"#home\">Tabel of Contents</a>"
   ]
  },
  {
   "cell_type": "code",
   "execution_count": null,
   "metadata": {},
   "outputs": [],
   "source": [
    "model = keras.models.Sequential([\n",
    "    keras.layers.Conv2D(32, kernel_size= (3,3), activation= 'relu' , input_shape = (224, 224, 3)),\n",
    "    keras.layers.MaxPooling2D(2,2),\n",
    "\n",
    "    keras.layers.Conv2D(32, kernel_size= (3,3), activation= 'relu'),\n",
    "    keras.layers.MaxPooling2D(2,2),\n",
    "\n",
    "    keras.layers.Conv2D(32, kernel_size= (3,3), activation= 'relu'),\n",
    "    keras.layers.MaxPooling2D(2,2),\n",
    "\n",
    "    keras.layers.Conv2D(32, kernel_size= (3,3), activation= 'relu'),\n",
    "    keras.layers.MaxPooling2D(2,2),\n",
    "\n",
    "    keras.layers.Conv2D(32, kernel_size= (3,3), activation= 'relu'),\n",
    "    keras.layers.MaxPooling2D(2,2),\n",
    "\n",
    "    keras.layers.Conv2D(32, kernel_size= (3,3), activation= 'relu'),\n",
    "    keras.layers.MaxPooling2D(2,2),\n",
    "\n",
    "    keras.layers.Flatten(),\n",
    "\n",
    "    keras.layers.Dense(64, activation='relu'),\n",
    "\n",
    "    keras.layers.Dense(38, activation='softmax')\n",
    "\n",
    "\n",
    "])\n",
    "\n",
    "model.summary()"
   ]
  },
  {
   "cell_type": "markdown",
   "metadata": {},
   "source": [
    "<a id=\"6\"></a>\n",
    "# <p style=\"background-image: url(https://i.postimg.cc/K87ByXmr/stage5.jpg);font-family:camtasia;font-size:120%;color:white;text-align:center;border-radius:15px 50px; padding:7px\"> Evaluate The Model  </p>\n",
    "<a class=\"btn\" href=\"#home\">Tabel of Contents</a>"
   ]
  },
  {
   "cell_type": "code",
   "execution_count": null,
   "metadata": {},
   "outputs": [],
   "source": [
    "checkpoint_cb = ModelCheckpoint(\"my_keras_model.keras\", save_best_only=True)\n",
    "early_stopping_cb = EarlyStopping(patience=5, restore_best_weights=True)\n",
    "model.compile(optimizer ='adam', loss='categorical_crossentropy', metrics=['accuracy',keras.metrics.AUC()])\n",
    "hist=model.fit(train_generator,epochs=6,validation_data=val_generator,callbacks=[checkpoint_cb,early_stopping_cb])"
   ]
  },
  {
   "cell_type": "code",
   "execution_count": null,
   "metadata": {},
   "outputs": [],
   "source": [
    "hist_=pd.DataFrame(hist)\n",
    "hist_"
   ]
  },
  {
   "cell_type": "code",
   "execution_count": null,
   "metadata": {},
   "outputs": [],
   "source": [
    "plt.figure(figsize=(25,10))\n",
    "plt.subplot(1,3,1)\n",
    "plt.plot(hist_['loss'],'b-o', label='Train_loss')\n",
    "plt.plot(hist_['val_loss'],'r-o', label='Validation_loss')\n",
    "plt.title('Train_loss and Validation_loss', fontsize=20)\n",
    "plt.legend()\n",
    "plt.subplot(1,3,2)\n",
    "plt.plot(hist_['accuracy'],'b-o', label='Train_Accuracy')\n",
    "plt.plot(hist_['val_accuracy'],'r-o', label='Validation_Accuracy')\n",
    "plt.title('Train_Accuracy and Validation_Accuracy', fontsize=20)\n",
    "plt.legend()\n",
    "plt.subplot(1,3,3)\n",
    "plt.plot(hist_.iloc[:,1], 'b-o', label='Train_acu')\n",
    "plt.plot(hist_.iloc[:,4], 'r-o', label='Validation_acu')\n",
    "plt.title('Train_Accuracy and Validation_Accuracy', fontsize=20)\n",
    "plt.legend()\n",
    "plt.show()"
   ]
  },
  {
   "cell_type": "code",
   "execution_count": null,
   "metadata": {},
   "outputs": [],
   "source": [
    "score, acc, auc = model.evaluate(test_generator)\n",
    "print('Test Loss =', score)\n",
    "print('Test Accuracy =', acc)\n",
    "print('Test AUC =', auc)"
   ]
  },
  {
   "cell_type": "code",
   "execution_count": null,
   "metadata": {},
   "outputs": [],
   "source": [
    "# Get true labels\n",
    "y_test = test_generator.classes\n",
    "# Predict probabilities for each class\n",
    "predictions = model.predict(test_generator)\n",
    "# Convert predict probabilities to class labels (choose the class with the highest probability)\n",
    "y_pred = np.argmax(predictions, axis=1)\n",
    "# Flatten both arrays just in case\n",
    "y_test = np.ravel(y_test)\n",
    "y_pred = np.ravel(y_pred)\n",
    "# Create a dataframe to compare actual vs predicted labels\n",
    "df = pd.DataFrame({'Actual': y_test, 'Prediction': y_pred})\n",
    "df.head()"
   ]
  },
  {
   "cell_type": "code",
   "execution_count": null,
   "metadata": {},
   "outputs": [],
   "source": [
    "batch = next(test_generator)\n",
    "images = batch[0]\n",
    "plt.figure(figsize=(50,80))\n",
    "for n in range(32):\n",
    "    plt.subplot(8,4,n+1)\n",
    "    plt.imshow(images[n])\n",
    "    plt.axis('off')\n",
    "    text = f'Actual: {class_[int(y_test[n])]}\\npred : {class_[int(y_pred[n])]}\\n'\n",
    "    plt.title(text,fontsize=25)"
   ]
  },
  {
   "cell_type": "code",
   "execution_count": null,
   "metadata": {},
   "outputs": [],
   "source": [
    "CM = confusion_matrix(y_test, y_pred)\n",
    "plt.figure(figsize=(15,25))\n",
    "sns.heatmap(CM,fmt='g', center= True,cbar=False,annot=True,cmap='Set2',xticklabels=class_,yticklabels=class_)\n",
    "CM"
   ]
  },
  {
   "cell_type": "code",
   "execution_count": null,
   "metadata": {},
   "outputs": [],
   "source": [
    "ClassificationReport = classification_report(y_test, y_pred, target_names=class_)\n",
    "print(\"Classification Report:\", ClassificationReport)"
   ]
  }
 ],
 "metadata": {
  "language_info": {
   "name": "python"
  }
 },
 "nbformat": 4,
 "nbformat_minor": 2
}
